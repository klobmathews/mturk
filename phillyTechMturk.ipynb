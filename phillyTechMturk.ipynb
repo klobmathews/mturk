{
 "metadata": {
  "name": "phillyTechMturk"
 },
 "nbformat": 3,
 "nbformat_minor": 0,
 "worksheets": [
  {
   "cells": [
    {
     "cell_type": "code",
     "collapsed": false,
     "input": [
      "from boto.mturk.question import (\n",
      "    AnswerSpecification,\n",
      "    FormattedContent,\n",
      "    FreeTextAnswer,\n",
      "    Overview,\n",
      "    Question,\n",
      "    QuestionContent,\n",
      "    QuestionForm,\n",
      "    SelectionAnswer,\n",
      ")\n",
      "\n",
      "from boto.mturk.connection import MTurkConnection"
     ],
     "language": "python",
     "metadata": {},
     "outputs": []
    },
    {
     "cell_type": "markdown",
     "metadata": {},
     "source": [
      "__Create a Mechanical Turk Connection__ Use your own AWS credentials"
     ]
    },
    {
     "cell_type": "code",
     "collapsed": false,
     "input": [
      "import pickle\n",
      "f = open('/Users/kellyo/mech_turk/creds.pk', 'rb')\n",
      "creds = pickle.load(f)\n",
      "f.close()"
     ],
     "language": "python",
     "metadata": {},
     "outputs": []
    },
    {
     "cell_type": "code",
     "collapsed": true,
     "input": [
      "mtc = MTurkConnection(\n",
      "    aws_access_key_id=creds['AWS_ACCESS_KEY_ID'],\n",
      "    aws_secret_access_key=creds['AWS_SECRET_ACCESS_KEY'],\n",
      "    host=creds['HOST'],\n",
      ")\n",
      "mtc"
     ],
     "language": "python",
     "metadata": {},
     "outputs": []
    },
    {
     "cell_type": "markdown",
     "metadata": {},
     "source": [
      "__Testing: Retrieve the account balance__"
     ]
    },
    {
     "cell_type": "markdown",
     "metadata": {},
     "source": [
      "In the sandbox, the account_balance will always be $10,000.000"
     ]
    },
    {
     "cell_type": "code",
     "collapsed": false,
     "input": [
      "print mtc.get_account_balance()"
     ],
     "language": "python",
     "metadata": {},
     "outputs": []
    },
    {
     "cell_type": "markdown",
     "metadata": {},
     "source": [
      "__Data to do stuff with__"
     ]
    },
    {
     "cell_type": "code",
     "collapsed": false,
     "input": [
      "from IPython.display import Image\n",
      "from IPython.core.display import display"
     ],
     "language": "python",
     "metadata": {},
     "outputs": []
    },
    {
     "cell_type": "code",
     "collapsed": false,
     "input": [
      "urls = [\n",
      "    'http://media.egotvonline.com/wp-content/uploads/2011/10/costume-dogs-in-fast-food-costumes.jpg?41ed4f',\n",
      "    'http://runt-of-the-web.com/wordpress/wp-content/uploads/2012/10/awkward-halloween-dad.jpg',\n",
      "]\n",
      "shuffle(urls)\n",
      "selections = (('Person', 0), ('Animal', 1), ('WTF', 2))"
     ],
     "language": "python",
     "metadata": {},
     "outputs": []
    },
    {
     "cell_type": "code",
     "collapsed": false,
     "input": [
      "#show the images we will use\n",
      "for url in urls:\n",
      "    img = Image(url=url)\n",
      "    display(img)"
     ],
     "language": "python",
     "metadata": {},
     "outputs": []
    },
    {
     "cell_type": "markdown",
     "metadata": {},
     "source": [
      "Be sure to use very clear descriptions & titles etc."
     ]
    },
    {
     "cell_type": "code",
     "collapsed": false,
     "input": [
      "description = 'Look at images and determine if the photo is of a person or a pet.'\n",
      "title = 'Determine if the photo is a person or a pet.'\n",
      "keywords = ['pets', 'people', 'photos', 'classification']"
     ],
     "language": "python",
     "metadata": {},
     "outputs": []
    },
    {
     "cell_type": "markdown",
     "metadata": {},
     "source": [
      "__Retrieve previously posted HITs and disable them.__"
     ]
    },
    {
     "cell_type": "code",
     "collapsed": false,
     "input": [
      "def remove_all_hits(mtc): \n",
      "    all_hits = mtc.get_all_hits() \n",
      "    for hit in all_hits: \n",
      "        mtc.disable_hit(hit.HITId) \n",
      "        print 'Disabled: ', hit.HITId "
     ],
     "language": "python",
     "metadata": {},
     "outputs": []
    },
    {
     "cell_type": "code",
     "collapsed": false,
     "input": [
      "remove_all_hits(mtc)"
     ],
     "language": "python",
     "metadata": {},
     "outputs": []
    },
    {
     "cell_type": "heading",
     "level": 3,
     "metadata": {},
     "source": [
      "Construct a HIT"
     ]
    },
    {
     "cell_type": "markdown",
     "metadata": {},
     "source": [
      "__Using a Question Form__"
     ]
    },
    {
     "cell_type": "code",
     "collapsed": false,
     "input": [
      "def add_image(url, overview, width=20, height=20):\n",
      "    \"\"\"Add an image to :param overview:. \"\"\"\n",
      "    overview.append_field('Text', title)\n",
      "    overview.append(FormattedContent(\n",
      "        '<img src=\"{0}\" alt=\"Pic\" height=\"500\" width=\"500\"></img>'.format(url)))\n",
      "    return overview"
     ],
     "language": "python",
     "metadata": {},
     "outputs": []
    },
    {
     "cell_type": "code",
     "collapsed": false,
     "input": [
      "def make_mc_question(url, selections):\n",
      "    \"\"\"Create a multiple choice question to classify :param urls:.\"\"\"\n",
      "    content = QuestionContent()\n",
      "    content = add_image(url, content)\n",
      "    content.append_field(\n",
      "        'Title', description)\n",
      "    answers = SelectionAnswer(\n",
      "        max=1,\n",
      "        min=1,\n",
      "        other=False,\n",
      "        selections=selections,\n",
      "        style='radiobutton',\n",
      "        type='text',\n",
      "    )\n",
      "    question = Question(\n",
      "        answer_spec=AnswerSpecification(answers),\n",
      "        content=content,\n",
      "        identifier='{0}'.format(url),\n",
      "        is_required=True,\n",
      "    )\n",
      "    return question"
     ],
     "language": "python",
     "metadata": {},
     "outputs": []
    },
    {
     "cell_type": "code",
     "collapsed": false,
     "input": [
      "def make_question(url, selections):\n",
      "    \"\"\"Build a formatted question to be posted on mechanical turk.\n",
      "\n",
      "    :param urls: Images to be displayed in mc question.\n",
      "    :param selections: Answer selections.\n",
      "    :param fta: True if the question includes a FreeTextAnswer.\n",
      "\n",
      "    \"\"\"\n",
      "    mc_overview = Overview()\n",
      "    mc_overview.append_field('Title', title)\n",
      "\n",
      "    question_form = QuestionForm()\n",
      "    question_form.append(mc_overview)\n",
      "    question_form.append(make_mc_question(url, selections))\n",
      "    return question_form"
     ],
     "language": "python",
     "metadata": {},
     "outputs": []
    },
    {
     "cell_type": "code",
     "collapsed": false,
     "input": [
      "question = make_question(urls[0], selections)\n",
      "question"
     ],
     "language": "python",
     "metadata": {},
     "outputs": []
    },
    {
     "cell_type": "heading",
     "level": 3,
     "metadata": {},
     "source": [
      "Set Qualifications and Requirements"
     ]
    },
    {
     "cell_type": "code",
     "collapsed": false,
     "input": [
      "from boto.mturk.qualification import (\n",
      "    Requirement,\n",
      "    Qualifications,\n",
      ")"
     ],
     "language": "python",
     "metadata": {},
     "outputs": []
    },
    {
     "cell_type": "markdown",
     "metadata": {},
     "source": [
      "__Create Custom Qulaification ID__"
     ]
    },
    {
     "cell_type": "markdown",
     "metadata": {},
     "source": [
      "__You'll need test data for your qualification test__"
     ]
    },
    {
     "cell_type": "code",
     "collapsed": false,
     "input": [
      "test_url = 'http://julien.danjou.info/media/images/lolcat-testing.jpg'\n",
      "test_answer = dict(selections)['Animal']"
     ],
     "language": "python",
     "metadata": {},
     "outputs": []
    },
    {
     "cell_type": "code",
     "collapsed": false,
     "input": [
      "img = Image(url=test_url); img "
     ],
     "language": "python",
     "metadata": {},
     "outputs": []
    },
    {
     "cell_type": "code",
     "collapsed": false,
     "input": [
      "def create_answer_xml(indentifier, selection, score):\n",
      "    xml_string = (\n",
      "        '<Question>'\n",
      "        '<QuestionIdentifier>{0}</QuestionIdentifier>'\n",
      "        '<AnswerOption>'\n",
      "        '<SelectionIdentifier>{1}</SelectionIdentifier>'\n",
      "        '<AnswerScore>{2}</AnswerScore>'\n",
      "        '</AnswerOption>'\n",
      "        '</Question>'\n",
      "    ).format(indentifier, selection, score)\n",
      "    return xml_string"
     ],
     "language": "python",
     "metadata": {},
     "outputs": []
    },
    {
     "cell_type": "code",
     "collapsed": false,
     "input": [
      "test_question = make_question(test_url, selections)"
     ],
     "language": "python",
     "metadata": {},
     "outputs": []
    },
    {
     "cell_type": "code",
     "collapsed": false,
     "input": [
      "answer_key = \"<AnswerKey xmlns='{0}'>\".format('http://mechanicalturk.amazonaws.com/AWSMechanicalTurkDataSchemas/2005-10-01/AnswerKey.xsd')\n",
      "answer_key += create_answer_xml(test_url, test_answer, 1)\n",
      "answer_key += '</AnswerKey>'"
     ],
     "language": "python",
     "metadata": {},
     "outputs": []
    },
    {
     "cell_type": "code",
     "collapsed": false,
     "input": [
      "answer_key"
     ],
     "language": "python",
     "metadata": {},
     "outputs": []
    },
    {
     "cell_type": "code",
     "collapsed": false,
     "input": [
      "def create_custom_qual_id(test_question, answer_key):\n",
      "    quals = mtc.create_qualification_type(\n",
      "        answer_key=answer_key,\n",
      "        auto_granted=False,\n",
      "        description=description,\n",
      "        keywords=keywords,\n",
      "        name='My Unique Qualification Name',\n",
      "        retry_delay=None,\n",
      "        status='Active',\n",
      "        test=test_question,\n",
      "        test_duration=3600,\n",
      "    )\n",
      "    qual = quals.pop()\n",
      "    print qual.Name\n",
      "    print qual.QualificationTypeId\n",
      "    return qual.QualificationTypeId"
     ],
     "language": "python",
     "metadata": {},
     "outputs": []
    },
    {
     "cell_type": "markdown",
     "metadata": {},
     "source": [
      "Creating a custom qualification generates a custom_id which can be used for any Requirement. However, this custom_id is created with a _unique_ name and re-executing the code with the same name will crash. You can either 1) dispose of the previously created qualification type or 2) use a different & unique name."
     ]
    },
    {
     "cell_type": "code",
     "collapsed": false,
     "input": [
      "custom_id = create_custom_qual_id(test_question, answer_key)"
     ],
     "language": "python",
     "metadata": {},
     "outputs": []
    },
    {
     "cell_type": "code",
     "collapsed": false,
     "input": [
      "def make_qual_type(\n",
      "    comparator=\"Exists\",\n",
      "    integer_value=None,\n",
      "    qual_type=custom_id,\n",
      "    required_to_preview=False,\n",
      "):\n",
      "    \"\"\"Creates a qualification requirement for workers to accept HITs.\"\"\"\n",
      "    return Requirement(\n",
      "        comparator=comparator,\n",
      "        integer_value=integer_value,\n",
      "        qualification_type_id=qual_type,\n",
      "        required_to_preview=required_to_preview,\n",
      ")\n"
     ],
     "language": "python",
     "metadata": {},
     "outputs": []
    },
    {
     "cell_type": "code",
     "collapsed": false,
     "input": [
      "custom_qual_type = make_qual_type(\n",
      "    comparator=\"GreaterThanOrEqualTo\",\n",
      "    integer_value=1,\n",
      "    qual_type=custom_id,\n",
      "    required_to_preview=False,\n",
      ")"
     ],
     "language": "python",
     "metadata": {},
     "outputs": []
    },
    {
     "cell_type": "code",
     "collapsed": false,
     "input": [
      "qualifications = Qualifications()\n",
      "qualifications.add(custom_qual_type)"
     ],
     "language": "python",
     "metadata": {},
     "outputs": []
    },
    {
     "cell_type": "code",
     "collapsed": false,
     "input": [
      "from collections import defaultdict\n",
      "\n",
      "ONE_HOUR = 3600  # seconds\n",
      "ONE_DAY = ONE_HOUR * 24\n",
      "ONE_WEEK = ONE_HOUR * 24 * 7\n",
      "\n",
      "hits = defaultdict(lambda : defaultdict())"
     ],
     "language": "python",
     "metadata": {},
     "outputs": []
    },
    {
     "cell_type": "code",
     "collapsed": false,
     "input": [
      "for url in urls:\n",
      "    hit = mtc.create_hit(\n",
      "        annotation=None,\n",
      "        approval_delay=1,\n",
      "#       approval_delay=ONE_DAY,\n",
      "        description=description,\n",
      "        duration=ONE_HOUR,\n",
      "        keywords=keywords,\n",
      "        lifetime=ONE_WEEK,\n",
      "        max_assignments=1,\n",
      "        qualifications=qualifications,\n",
      "        questions=make_question(url, selections),\n",
      "        response_groups=[\n",
      "            'HITAssignmentSummary', 'HITDetail', 'HITQuestion', 'Minimal'],\n",
      "        reward=0.02,\n",
      "        title=title,\n",
      "    )\n",
      "    hits[hit[0].HITId] = {'url': url}"
     ],
     "language": "python",
     "metadata": {},
     "outputs": []
    },
    {
     "cell_type": "code",
     "collapsed": false,
     "input": [
      "print 'Created Hits: '\n",
      "for hit in hits.keys():\n",
      "    print hit"
     ],
     "language": "python",
     "metadata": {},
     "outputs": []
    },
    {
     "cell_type": "code",
     "collapsed": false,
     "input": [
      "mtc.dispose_qualification_type(custom_id)"
     ],
     "language": "python",
     "metadata": {},
     "outputs": []
    },
    {
     "cell_type": "heading",
     "level": 4,
     "metadata": {},
     "source": [
      "Turkers will preview, accept and respond to HITS."
     ]
    },
    {
     "cell_type": "markdown",
     "metadata": {},
     "source": [
      "At this point you can view and answer the HITs you have created in the worker Sandbox by searching for your requester_id here: https://workersandbox.mturk.com/mturk/findhits?match=false"
     ]
    },
    {
     "cell_type": "heading",
     "level": 3,
     "metadata": {},
     "source": [
      "Retrieve and review the responses:"
     ]
    },
    {
     "cell_type": "code",
     "collapsed": false,
     "input": [
      "def get_reviewable_hits(page_num=1, page_size=10):\n",
      "    \"\"\"Return all hits on the :param page_num:, with :param page_size:.\"\"\"\n",
      "    return mtc.get_reviewable_hits(\n",
      "        page_number=page_num,\n",
      "        page_size=page_size,\n",
      "        sort_by='Enumeration'\n",
      "    )"
     ],
     "language": "python",
     "metadata": {},
     "outputs": []
    },
    {
     "cell_type": "code",
     "collapsed": false,
     "input": [
      "reviewable_hits = get_reviewable_hits()"
     ],
     "language": "python",
     "metadata": {},
     "outputs": []
    },
    {
     "cell_type": "code",
     "collapsed": false,
     "input": [
      "def parse_assignments(assignments):\n",
      "        \"\"\"Extract each answer from ::param assignments::.\"\"\"\n",
      "        for assignment in assignments:\n",
      "            classification = _parse_answers(assignment)\n",
      "        return classification"
     ],
     "language": "python",
     "metadata": {},
     "outputs": []
    },
    {
     "cell_type": "code",
     "collapsed": false,
     "input": [
      "def _parse_answers(assignment):  # pragma no cover\n",
      "    \"\"\"Return a list of dicts, each containing an answer's details.\"\"\"\n",
      "    classification = {}\n",
      "    answer = assignment.answers[0][0]\n",
      "    if not answer.fields[0]:\n",
      "        return\n",
      "    ind_id = int(answer.fields[0])\n",
      "    classification.update({'selection': selections[ind_id][0]})\n",
      "    classification.update({'selection_id': ind_id})\n",
      "    classification.update({'worker_id': assignment.WorkerId})\n",
      "    return classification"
     ],
     "language": "python",
     "metadata": {},
     "outputs": []
    },
    {
     "cell_type": "code",
     "collapsed": false,
     "input": [
      "for hit in reviewable_hits:\n",
      "    assignments = mtc.get_assignments(hit.HITId)\n",
      "    responses = parse_assignments(assignments)\n",
      "    hits[hit.HITId].update(responses)\n",
      "    print hits[hit.HITId].get('selection')\n",
      "    img = Image(url=hits[hit.HITId]['url'])\n",
      "    display(img)"
     ],
     "language": "python",
     "metadata": {},
     "outputs": []
    },
    {
     "cell_type": "code",
     "collapsed": false,
     "input": [
      "for hit, values in hits.iteritems():\n",
      "    print 'HitId: {0}, Selection: {1}, Selection Id: {2}'.format(hit, values.get('selection'), values.get('selection_id'))\n",
      "    "
     ],
     "language": "python",
     "metadata": {},
     "outputs": []
    },
    {
     "cell_type": "code",
     "collapsed": false,
     "input": [
      "import pandas\n",
      "pandas.DataFrame(hits)"
     ],
     "language": "python",
     "metadata": {},
     "outputs": []
    }
   ],
   "metadata": {}
  }
 ]
}